{
 "cells": [
  {
   "cell_type": "code",
   "execution_count": null,
   "id": "0b08792a",
   "metadata": {
    "colab": {
     "base_uri": "https://localhost:8080/"
    },
    "collapsed": true,
    "executionInfo": {
     "elapsed": 111593,
     "status": "ok",
     "timestamp": 1749603316795,
     "user": {
      "displayName": "양태환",
      "userId": "02537317918034656022"
     },
     "user_tz": -540
    },
    "id": "0b08792a",
    "outputId": "8332584f-a73e-4429-a9d8-e9f30077263f"
   },
   "outputs": [],
   "source": [
    "# from google.colab import drive\n",
    "# drive.mount('/content/drive')\n",
    "# %cd /content/drive/MyDrive/unet_qr_steganography\n",
    "# !pip install kornia pytorch_msssim"
   ]
  },
  {
   "cell_type": "code",
   "execution_count": 2,
   "id": "7889c8d2",
   "metadata": {
    "executionInfo": {
     "elapsed": 14,
     "status": "ok",
     "timestamp": 1749603316827,
     "user": {
      "displayName": "양태환",
      "userId": "02537317918034656022"
     },
     "user_tz": -540
    },
    "id": "7889c8d2"
   },
   "outputs": [],
   "source": [
    "DEVICE='cuda'"
   ]
  },
  {
   "cell_type": "markdown",
   "id": "aaecc293",
   "metadata": {
    "id": "aaecc293"
   },
   "source": [
    "## **Unet architect**\n",
    "\n",
    "- https://www.mdpi.com/2079-9292/12/18/3808"
   ]
  },
  {
   "cell_type": "code",
   "execution_count": 3,
   "id": "2e304076",
   "metadata": {
    "colab": {
     "base_uri": "https://localhost:8080/"
    },
    "executionInfo": {
     "elapsed": 50,
     "status": "ok",
     "timestamp": 1749603316889,
     "user": {
      "displayName": "양태환",
      "userId": "02537317918034656022"
     },
     "user_tz": -540
    },
    "id": "2e304076",
    "outputId": "78eb27f3-f959-4843-c351-3fc072ed6d48"
   },
   "outputs": [
    {
     "data": {
      "text/plain": [
       "<torch._C.Generator at 0x7dbe0404c4d0>"
      ]
     },
     "execution_count": 3,
     "metadata": {},
     "output_type": "execute_result"
    }
   ],
   "source": [
    "import torch\n",
    "import torch.nn as nn\n",
    "\n",
    "torch.manual_seed(0)"
   ]
  },
  {
   "cell_type": "code",
   "execution_count": 4,
   "id": "0dc571fd",
   "metadata": {
    "executionInfo": {
     "elapsed": 9,
     "status": "ok",
     "timestamp": 1749603316909,
     "user": {
      "displayName": "양태환",
      "userId": "02537317918034656022"
     },
     "user_tz": -540
    },
    "id": "0dc571fd"
   },
   "outputs": [],
   "source": [
    "class Conv(nn.Module):\n",
    "    def __init__(self, in_channels, out_channels, kernel_size, **kwargs):\n",
    "        super().__init__()\n",
    "\n",
    "        self.layer = nn.Sequential(\n",
    "            nn.Conv2d(in_channels, out_channels, kernel_size=kernel_size, **kwargs),\n",
    "            nn.BatchNorm2d(out_channels),\n",
    "            nn.LeakyReLU()\n",
    "        )\n",
    "\n",
    "    def forward(self, x):\n",
    "        return self.layer(x)"
   ]
  },
  {
   "cell_type": "code",
   "execution_count": 5,
   "id": "9f6d0b65",
   "metadata": {
    "executionInfo": {
     "elapsed": 10,
     "status": "ok",
     "timestamp": 1749603316928,
     "user": {
      "displayName": "양태환",
      "userId": "02537317918034656022"
     },
     "user_tz": -540
    },
    "id": "9f6d0b65"
   },
   "outputs": [],
   "source": [
    "class ExtractionBlock(nn.Module):\n",
    "    def __init__(self, in_channels, out_channels):\n",
    "        super().__init__()\n",
    "\n",
    "        self.conv1 = Conv(in_channels, out_channels, kernel_size=1)\n",
    "        self.conv3 = nn.Sequential(\n",
    "            Conv(in_channels, out_channels, kernel_size=3, padding=1),\n",
    "            Conv(out_channels, out_channels, kernel_size=3, padding=1)\n",
    "        )\n",
    "\n",
    "    def forward(self, x):\n",
    "        return self.conv1(x) + self.conv3(x)\n",
    "\n",
    "class UpExtractionBlock(nn.Module):\n",
    "    def __init__(self, in_channels, out_channels):\n",
    "        super().__init__()\n",
    "\n",
    "        self.transpose = nn.ConvTranspose2d(in_channels, out_channels, kernel_size=2, stride=2)\n",
    "        self.extract = ExtractionBlock(out_channels*2, out_channels)\n",
    "\n",
    "    def forward(self, x, concat):\n",
    "        x = torch.concat([self.transpose(x), concat], dim=1)\n",
    "        x = self.extract(x)\n",
    "        return x\n",
    "\n"
   ]
  },
  {
   "cell_type": "code",
   "execution_count": 6,
   "id": "46f3d786",
   "metadata": {
    "executionInfo": {
     "elapsed": 21,
     "status": "ok",
     "timestamp": 1749603316959,
     "user": {
      "displayName": "양태환",
      "userId": "02537317918034656022"
     },
     "user_tz": -540
    },
    "id": "46f3d786"
   },
   "outputs": [],
   "source": [
    "class Unet(nn.Module):\n",
    "    def __init__(self, in_channels):\n",
    "        super().__init__()\n",
    "\n",
    "        self.pool = nn.MaxPool2d(kernel_size=2, stride=2)\n",
    "        self.extract1 = ExtractionBlock(in_channels, 64)\n",
    "        self.extract2 = ExtractionBlock(64, 128)\n",
    "        self.extract3 = ExtractionBlock(128, 256)\n",
    "        self.extract4 = ExtractionBlock(256, 512)\n",
    "\n",
    "        self.extract4_1 = ExtractionBlock(512, 512)\n",
    "        self.extract4_2 = ExtractionBlock(1024,512)\n",
    "\n",
    "        self.extract5 = UpExtractionBlock(512, 256)\n",
    "        self.extract6 = UpExtractionBlock(256, 128)\n",
    "        self.extract7 = UpExtractionBlock(128, 64)\n",
    "\n",
    "        self.layer = nn.Sequential(\n",
    "            nn.Conv2d(64, 1, kernel_size=1),\n",
    "            nn.Tanh()\n",
    "        )\n",
    "\n",
    "    def forward(self, x):\n",
    "        x1 = self.extract1(x)\n",
    "        x2 = self.extract2(self.pool(x1))\n",
    "        x3 = self.extract3(self.pool(x2))\n",
    "        x4 = self.extract4(self.pool(x3))\n",
    "\n",
    "        x5 = self.extract4_1(x4)\n",
    "        x  = torch.concat([x5, x4], dim=1)\n",
    "        x  = self.extract4_2(x)\n",
    "        x  = self.extract5(x, x3)\n",
    "        x  = self.extract6(x, x2)\n",
    "        x  = self.extract7(x, x1)\n",
    "\n",
    "        return (self.layer(x) + 1) / 2\n"
   ]
  },
  {
   "cell_type": "markdown",
   "id": "1c3cdb82",
   "metadata": {
    "id": "1c3cdb82"
   },
   "source": [
    "## **Processing Dataset**\n",
    "- https://www.kaggle.com/datasets/tornikeonoprishvili/pepe-memes-dataaset"
   ]
  },
  {
   "cell_type": "code",
   "execution_count": null,
   "id": "4e2652cb",
   "metadata": {
    "executionInfo": {
     "elapsed": 26,
     "status": "ok",
     "timestamp": 1749603317000,
     "user": {
      "displayName": "양태환",
      "userId": "02537317918034656022"
     },
     "user_tz": -540
    },
    "id": "4e2652cb"
   },
   "outputs": [],
   "source": [
    "from torchvision import transforms\n",
    "from torch.utils.data import DataLoader, Dataset\n",
    "from PIL import Image\n",
    "import glob\n",
    "import kornia"
   ]
  },
  {
   "cell_type": "code",
   "execution_count": null,
   "id": "85dd2c4c",
   "metadata": {
    "executionInfo": {
     "elapsed": 11,
     "status": "ok",
     "timestamp": 1749603317033,
     "user": {
      "displayName": "양태환",
      "userId": "02537317918034656022"
     },
     "user_tz": -540
    },
    "id": "85dd2c4c"
   },
   "outputs": [],
   "source": [
    "class ImageDataset(Dataset):\n",
    "    def __init__(self, root, image_size):\n",
    "        self.transform = transforms.Compose([\n",
    "            transforms.Resize((image_size, image_size)),\n",
    "            transforms.PILToTensor()\n",
    "        ])\n",
    "        self.paths = glob.glob(f'{root}/*.jpg')\n",
    "\n",
    "    def __getitem__(self, index):\n",
    "        img = Image.open(self.paths[index])\n",
    "        return self.transform(img).float()\n",
    "\n",
    "    def __len__(self):\n",
    "        return len(self.paths)"
   ]
  },
  {
   "cell_type": "code",
   "execution_count": null,
   "id": "c2bbfdee",
   "metadata": {
    "executionInfo": {
     "elapsed": 9,
     "status": "ok",
     "timestamp": 1749603317050,
     "user": {
      "displayName": "양태환",
      "userId": "02537317918034656022"
     },
     "user_tz": -540
    },
    "id": "c2bbfdee"
   },
   "outputs": [],
   "source": [
    "def rgb_to_yuv(tensor):\n",
    "\n",
    "    yuv = kornia.color.rgb_to_yuv(tensor)\n",
    "    Y = yuv[:, 0:1, :, :]\n",
    "    U = yuv[:, 1:2, :, :]\n",
    "    V = yuv[:, 2:3, :, :]\n",
    "\n",
    "    return Y, U, V\n",
    "\n",
    "def yuv_to_rgb(Y, U, V):\n",
    "\n",
    "    yuv_merged = torch.cat([Y, U, V], dim=1)\n",
    "    rgb = kornia.color.yuv_to_rgb(yuv_merged)\n",
    "\n",
    "    return rgb"
   ]
  },
  {
   "cell_type": "markdown",
   "id": "93beb520",
   "metadata": {
    "id": "93beb520"
   },
   "source": [
    "## **Loss Functions**"
   ]
  },
  {
   "cell_type": "code",
   "execution_count": 10,
   "id": "4e955fb1",
   "metadata": {
    "executionInfo": {
     "elapsed": 8,
     "status": "ok",
     "timestamp": 1749603317072,
     "user": {
      "displayName": "양태환",
      "userId": "02537317918034656022"
     },
     "user_tz": -540
    },
    "id": "4e955fb1"
   },
   "outputs": [],
   "source": [
    "from pytorch_msssim import ms_ssim, ssim\n",
    "from torchvision.models import vgg16, VGG16_Weights"
   ]
  },
  {
   "cell_type": "code",
   "execution_count": 11,
   "id": "130c5bb7",
   "metadata": {
    "executionInfo": {
     "elapsed": 5,
     "status": "ok",
     "timestamp": 1749603317089,
     "user": {
      "displayName": "양태환",
      "userId": "02537317918034656022"
     },
     "user_tz": -540
    },
    "id": "130c5bb7"
   },
   "outputs": [],
   "source": [
    "class VGG16PerceptualLoss(nn.Module):\n",
    "    def __init__(self, layer=16):\n",
    "        super().__init__()\n",
    "        vgg = vgg16(weights=VGG16_Weights.DEFAULT).to(DEVICE).features\n",
    "        self.feature_extractor = nn.Sequential(*list(vgg.children())[:layer+1]).eval()\n",
    "        for param in self.feature_extractor.parameters():\n",
    "            param.requires_grad = False\n",
    "        self.mean = torch.tensor([0.485, 0.456, 0.406]).view(1,3,1,1).to(DEVICE)\n",
    "        self.std = torch.tensor([0.229, 0.224, 0.225]).view(1,3,1,1).to(DEVICE)\n",
    "\n",
    "    def forward(self, input, target):\n",
    "        if input.shape[1] == 1:\n",
    "            input = input.repeat(1, 3, 1, 1)\n",
    "            target = target.repeat(1, 3, 1, 1)\n",
    "        input_norm = (input - self.mean) / self.std\n",
    "        target_norm = (target - self.mean) / self.std\n",
    "\n",
    "        feat_input = self.feature_extractor(input_norm)\n",
    "        feat_target = self.feature_extractor(target_norm)\n",
    "\n",
    "        loss = nn.functional.l1_loss(feat_input, feat_target)\n",
    "        return loss\n",
    "\n",
    "\n",
    "\n",
    "class Loss(nn.Module):\n",
    "    def __init__(self, alpha, beta):\n",
    "        super().__init__()\n",
    "        self.alpha = alpha\n",
    "        self.beta  = beta\n",
    "        self.ppl_loss = VGG16PerceptualLoss()\n",
    "\n",
    "    def forward(self, c1, c2):\n",
    "        return self.alpha * (1 - (ms_ssim(c1, c2, data_range=1))) + (1-self.alpha) * (1 - (ssim(c1,c2, data_range=1))) + self.beta * self.ppl_loss(c1, c2)\n"
   ]
  },
  {
   "cell_type": "markdown",
   "id": "1cf4e6a4",
   "metadata": {
    "id": "1cf4e6a4"
   },
   "source": [
    "## **Traning**"
   ]
  },
  {
   "cell_type": "code",
   "execution_count": 12,
   "id": "3f22f0f7",
   "metadata": {
    "executionInfo": {
     "elapsed": 5,
     "status": "ok",
     "timestamp": 1749603317102,
     "user": {
      "displayName": "양태환",
      "userId": "02537317918034656022"
     },
     "user_tz": -540
    },
    "id": "3f22f0f7"
   },
   "outputs": [],
   "source": [
    "def xavier_init_weights(m):\n",
    "    if isinstance(m, (nn.Linear, nn.Conv2d)):\n",
    "        nn.init.xavier_uniform_(m.weight)\n",
    "        if m.bias is not None:\n",
    "            nn.init.constant_(m.bias, 0.01)"
   ]
  },
  {
   "cell_type": "code",
   "execution_count": 13,
   "id": "d9e835c3",
   "metadata": {
    "executionInfo": {
     "elapsed": 4,
     "status": "ok",
     "timestamp": 1749603317112,
     "user": {
      "displayName": "양태환",
      "userId": "02537317918034656022"
     },
     "user_tz": -540
    },
    "id": "d9e835c3"
   },
   "outputs": [],
   "source": [
    "from torch.optim.lr_scheduler import MultiStepLR\n",
    "import matplotlib.pyplot as plt\n",
    "from IPython.display import clear_output"
   ]
  },
  {
   "cell_type": "code",
   "execution_count": 14,
   "id": "d3f75d07",
   "metadata": {
    "executionInfo": {
     "elapsed": 5,
     "status": "ok",
     "timestamp": 1749603317124,
     "user": {
      "displayName": "양태환",
      "userId": "02537317918034656022"
     },
     "user_tz": -540
    },
    "id": "d3f75d07"
   },
   "outputs": [],
   "source": [
    "batch_size = 8\n",
    "learning_rate = 0.0001\n",
    "alpha = 0.5\n",
    "beta = 0.85\n",
    "epochs = 50\n",
    "image_size = 200"
   ]
  },
  {
   "cell_type": "code",
   "execution_count": null,
   "id": "be3a35be",
   "metadata": {
    "executionInfo": {
     "elapsed": 4,
     "status": "ok",
     "timestamp": 1749603317132,
     "user": {
      "displayName": "양태환",
      "userId": "02537317918034656022"
     },
     "user_tz": -540
    },
    "id": "be3a35be"
   },
   "outputs": [],
   "source": [
    "dataset       = ImageDataset(root='pepe_dataset', image_size=image_size)\n",
    "cover_loader  = DataLoader(dataset, batch_size=batch_size, shuffle=True)\n",
    "secret_loader = DataLoader(dataset, batch_size=batch_size, shuffle=True)\n"
   ]
  },
  {
   "cell_type": "code",
   "execution_count": null,
   "id": "4e711fec",
   "metadata": {
    "colab": {
     "base_uri": "https://localhost:8080/"
    },
    "executionInfo": {
     "elapsed": 3411,
     "status": "ok",
     "timestamp": 1749603320548,
     "user": {
      "displayName": "양태환",
      "userId": "02537317918034656022"
     },
     "user_tz": -540
    },
    "id": "4e711fec",
    "outputId": "f59df70e-74f8-41fb-c7db-5c0661fcff96"
   },
   "outputs": [
    {
     "name": "stderr",
     "output_type": "stream",
     "text": [
      "Downloading: \"https://download.pytorch.org/models/vgg16-397923af.pth\" to /root/.cache/torch/hub/checkpoints/vgg16-397923af.pth\n",
      "100%|██████████| 528M/528M [00:02<00:00, 198MB/s]\n"
     ]
    }
   ],
   "source": [
    "H = Unet(2).to(DEVICE)\n",
    "E = Unet(3).to(DEVICE)\n",
    "\n",
    "H.apply(xavier_init_weights)\n",
    "E.apply(xavier_init_weights)\n",
    "\n",
    "criterion = Loss(alpha, beta)\n",
    "optimizer = torch.optim.Adam(list(H.parameters())+list(E.parameters()), lr=learning_rate)\n",
    "\n",
    "\n",
    "milestones = list(range(15, epochs, 3))\n",
    "scheduler = MultiStepLR(optimizer, milestones=milestones, gamma=0.5)"
   ]
  },
  {
   "cell_type": "code",
   "execution_count": null,
   "id": "beeeaa80",
   "metadata": {},
   "outputs": [],
   "source": [
    "x, y1, y2 = [], [], []"
   ]
  },
  {
   "cell_type": "code",
   "execution_count": null,
   "id": "7d4177f3",
   "metadata": {
    "colab": {
     "base_uri": "https://localhost:8080/",
     "height": 756
    },
    "executionInfo": {
     "elapsed": 1803187,
     "status": "error",
     "timestamp": 1749605123748,
     "user": {
      "displayName": "양태환",
      "userId": "02537317918034656022"
     },
     "user_tz": -540
    },
    "id": "7d4177f3",
    "outputId": "f17bb641-c3a9-46c2-c148-a3e008e3e6a8"
   },
   "outputs": [
    {
     "data": {
      "image/png": "[encoded data removed]",
      "text/plain": [
       "<Figure size 800x400 with 2 Axes>"
      ]
     },
     "metadata": {},
     "output_type": "display_data"
    },
    {
     "ename": "KeyboardInterrupt",
     "evalue": "",
     "output_type": "error",
     "traceback": [
      "\u001b[0;31m---------------------------------------------------------------------------\u001b[0m",
      "\u001b[0;31mKeyboardInterrupt\u001b[0m                         Traceback (most recent call last)",
      "\u001b[0;32m<ipython-input-17-921662641>\u001b[0m in \u001b[0;36m<cell line: 0>\u001b[0;34m()\u001b[0m\n\u001b[1;32m     26\u001b[0m         \u001b[0;31m# 2. Extract Network\u001b[0m\u001b[0;34m\u001b[0m\u001b[0;34m\u001b[0m\u001b[0m\n\u001b[1;32m     27\u001b[0m         \u001b[0mSY_pred\u001b[0m \u001b[0;34m=\u001b[0m \u001b[0mE\u001b[0m\u001b[0;34m(\u001b[0m\u001b[0mstego_rgb\u001b[0m\u001b[0;34m)\u001b[0m\u001b[0;34m\u001b[0m\u001b[0;34m\u001b[0m\u001b[0m\n\u001b[0;32m---> 28\u001b[0;31m         \u001b[0mloss_extract\u001b[0m \u001b[0;34m=\u001b[0m \u001b[0mcriterion\u001b[0m\u001b[0;34m(\u001b[0m\u001b[0mSY\u001b[0m\u001b[0;34m,\u001b[0m \u001b[0mSY_pred\u001b[0m\u001b[0;34m)\u001b[0m\u001b[0;34m\u001b[0m\u001b[0;34m\u001b[0m\u001b[0m\n\u001b[0m\u001b[1;32m     29\u001b[0m \u001b[0;34m\u001b[0m\u001b[0m\n\u001b[1;32m     30\u001b[0m         \u001b[0;31m# LOSS\u001b[0m\u001b[0;34m\u001b[0m\u001b[0;34m\u001b[0m\u001b[0m\n",
      "\u001b[0;32m/usr/local/lib/python3.11/dist-packages/torch/nn/modules/module.py\u001b[0m in \u001b[0;36m_wrapped_call_impl\u001b[0;34m(self, *args, **kwargs)\u001b[0m\n\u001b[1;32m   1737\u001b[0m             \u001b[0;32mreturn\u001b[0m \u001b[0mself\u001b[0m\u001b[0;34m.\u001b[0m\u001b[0m_compiled_call_impl\u001b[0m\u001b[0;34m(\u001b[0m\u001b[0;34m*\u001b[0m\u001b[0margs\u001b[0m\u001b[0;34m,\u001b[0m \u001b[0;34m**\u001b[0m\u001b[0mkwargs\u001b[0m\u001b[0;34m)\u001b[0m  \u001b[0;31m# type: ignore[misc]\u001b[0m\u001b[0;34m\u001b[0m\u001b[0;34m\u001b[0m\u001b[0m\n\u001b[1;32m   1738\u001b[0m         \u001b[0;32melse\u001b[0m\u001b[0;34m:\u001b[0m\u001b[0;34m\u001b[0m\u001b[0;34m\u001b[0m\u001b[0m\n\u001b[0;32m-> 1739\u001b[0;31m             \u001b[0;32mreturn\u001b[0m \u001b[0mself\u001b[0m\u001b[0;34m.\u001b[0m\u001b[0m_call_impl\u001b[0m\u001b[0;34m(\u001b[0m\u001b[0;34m*\u001b[0m\u001b[0margs\u001b[0m\u001b[0;34m,\u001b[0m \u001b[0;34m**\u001b[0m\u001b[0mkwargs\u001b[0m\u001b[0;34m)\u001b[0m\u001b[0;34m\u001b[0m\u001b[0;34m\u001b[0m\u001b[0m\n\u001b[0m\u001b[1;32m   1740\u001b[0m \u001b[0;34m\u001b[0m\u001b[0m\n\u001b[1;32m   1741\u001b[0m     \u001b[0;31m# torchrec tests the code consistency with the following code\u001b[0m\u001b[0;34m\u001b[0m\u001b[0;34m\u001b[0m\u001b[0m\n",
      "\u001b[0;32m/usr/local/lib/python3.11/dist-packages/torch/nn/modules/module.py\u001b[0m in \u001b[0;36m_call_impl\u001b[0;34m(self, *args, **kwargs)\u001b[0m\n\u001b[1;32m   1748\u001b[0m                 \u001b[0;32mor\u001b[0m \u001b[0m_global_backward_pre_hooks\u001b[0m \u001b[0;32mor\u001b[0m \u001b[0m_global_backward_hooks\u001b[0m\u001b[0;34m\u001b[0m\u001b[0;34m\u001b[0m\u001b[0m\n\u001b[1;32m   1749\u001b[0m                 or _global_forward_hooks or _global_forward_pre_hooks):\n\u001b[0;32m-> 1750\u001b[0;31m             \u001b[0;32mreturn\u001b[0m \u001b[0mforward_call\u001b[0m\u001b[0;34m(\u001b[0m\u001b[0;34m*\u001b[0m\u001b[0margs\u001b[0m\u001b[0;34m,\u001b[0m \u001b[0;34m**\u001b[0m\u001b[0mkwargs\u001b[0m\u001b[0;34m)\u001b[0m\u001b[0;34m\u001b[0m\u001b[0;34m\u001b[0m\u001b[0m\n\u001b[0m\u001b[1;32m   1751\u001b[0m \u001b[0;34m\u001b[0m\u001b[0m\n\u001b[1;32m   1752\u001b[0m         \u001b[0mresult\u001b[0m \u001b[0;34m=\u001b[0m \u001b[0;32mNone\u001b[0m\u001b[0;34m\u001b[0m\u001b[0;34m\u001b[0m\u001b[0m\n",
      "\u001b[0;32m<ipython-input-11-2512748657>\u001b[0m in \u001b[0;36mforward\u001b[0;34m(self, c1, c2)\u001b[0m\n\u001b[1;32m     32\u001b[0m \u001b[0;34m\u001b[0m\u001b[0m\n\u001b[1;32m     33\u001b[0m     \u001b[0;32mdef\u001b[0m \u001b[0mforward\u001b[0m\u001b[0;34m(\u001b[0m\u001b[0mself\u001b[0m\u001b[0;34m,\u001b[0m \u001b[0mc1\u001b[0m\u001b[0;34m,\u001b[0m \u001b[0mc2\u001b[0m\u001b[0;34m)\u001b[0m\u001b[0;34m:\u001b[0m\u001b[0;34m\u001b[0m\u001b[0;34m\u001b[0m\u001b[0m\n\u001b[0;32m---> 34\u001b[0;31m         \u001b[0;32mreturn\u001b[0m \u001b[0mself\u001b[0m\u001b[0;34m.\u001b[0m\u001b[0malpha\u001b[0m \u001b[0;34m*\u001b[0m \u001b[0;34m(\u001b[0m\u001b[0;36m1\u001b[0m \u001b[0;34m-\u001b[0m \u001b[0;34m(\u001b[0m\u001b[0mms_ssim\u001b[0m\u001b[0;34m(\u001b[0m\u001b[0mc1\u001b[0m\u001b[0;34m,\u001b[0m \u001b[0mc2\u001b[0m\u001b[0;34m,\u001b[0m \u001b[0mdata_range\u001b[0m\u001b[0;34m=\u001b[0m\u001b[0;36m1\u001b[0m\u001b[0;34m)\u001b[0m\u001b[0;34m)\u001b[0m\u001b[0;34m)\u001b[0m \u001b[0;34m+\u001b[0m \u001b[0;34m(\u001b[0m\u001b[0;36m1\u001b[0m\u001b[0;34m-\u001b[0m\u001b[0mself\u001b[0m\u001b[0;34m.\u001b[0m\u001b[0malpha\u001b[0m\u001b[0;34m)\u001b[0m \u001b[0;34m*\u001b[0m \u001b[0;34m(\u001b[0m\u001b[0;36m1\u001b[0m \u001b[0;34m-\u001b[0m \u001b[0;34m(\u001b[0m\u001b[0mssim\u001b[0m\u001b[0;34m(\u001b[0m\u001b[0mc1\u001b[0m\u001b[0;34m,\u001b[0m\u001b[0mc2\u001b[0m\u001b[0;34m,\u001b[0m \u001b[0mdata_range\u001b[0m\u001b[0;34m=\u001b[0m\u001b[0;36m1\u001b[0m\u001b[0;34m)\u001b[0m\u001b[0;34m)\u001b[0m\u001b[0;34m)\u001b[0m \u001b[0;34m+\u001b[0m \u001b[0mself\u001b[0m\u001b[0;34m.\u001b[0m\u001b[0mbeta\u001b[0m \u001b[0;34m*\u001b[0m \u001b[0mself\u001b[0m\u001b[0;34m.\u001b[0m\u001b[0mppl_loss\u001b[0m\u001b[0;34m(\u001b[0m\u001b[0mc1\u001b[0m\u001b[0;34m,\u001b[0m \u001b[0mc2\u001b[0m\u001b[0;34m)\u001b[0m\u001b[0;34m\u001b[0m\u001b[0;34m\u001b[0m\u001b[0m\n\u001b[0m",
      "\u001b[0;32m/usr/local/lib/python3.11/dist-packages/pytorch_msssim/ssim.py\u001b[0m in \u001b[0;36mms_ssim\u001b[0;34m(X, Y, data_range, size_average, win_size, win_sigma, win, weights, K)\u001b[0m\n\u001b[1;32m    217\u001b[0m     \u001b[0;32mif\u001b[0m \u001b[0mweights\u001b[0m \u001b[0;32mis\u001b[0m \u001b[0;32mNone\u001b[0m\u001b[0;34m:\u001b[0m\u001b[0;34m\u001b[0m\u001b[0;34m\u001b[0m\u001b[0m\n\u001b[1;32m    218\u001b[0m         \u001b[0mweights\u001b[0m \u001b[0;34m=\u001b[0m \u001b[0;34m[\u001b[0m\u001b[0;36m0.0448\u001b[0m\u001b[0;34m,\u001b[0m \u001b[0;36m0.2856\u001b[0m\u001b[0;34m,\u001b[0m \u001b[0;36m0.3001\u001b[0m\u001b[0;34m,\u001b[0m \u001b[0;36m0.2363\u001b[0m\u001b[0;34m,\u001b[0m \u001b[0;36m0.1333\u001b[0m\u001b[0;34m]\u001b[0m\u001b[0;34m\u001b[0m\u001b[0;34m\u001b[0m\u001b[0m\n\u001b[0;32m--> 219\u001b[0;31m     \u001b[0mweights_tensor\u001b[0m \u001b[0;34m=\u001b[0m \u001b[0mX\u001b[0m\u001b[0;34m.\u001b[0m\u001b[0mnew_tensor\u001b[0m\u001b[0;34m(\u001b[0m\u001b[0mweights\u001b[0m\u001b[0;34m)\u001b[0m\u001b[0;34m\u001b[0m\u001b[0;34m\u001b[0m\u001b[0m\n\u001b[0m\u001b[1;32m    220\u001b[0m \u001b[0;34m\u001b[0m\u001b[0m\n\u001b[1;32m    221\u001b[0m     \u001b[0;32mif\u001b[0m \u001b[0mwin\u001b[0m \u001b[0;32mis\u001b[0m \u001b[0;32mNone\u001b[0m\u001b[0;34m:\u001b[0m\u001b[0;34m\u001b[0m\u001b[0;34m\u001b[0m\u001b[0m\n",
      "\u001b[0;31mKeyboardInterrupt\u001b[0m: "
     ]
    }
   ],
   "source": [
    "batch_hidden_losses = []\n",
    "batch_extract_losses = []\n",
    "\n",
    "for epoch in range(epochs):\n",
    "\n",
    "    H.train()\n",
    "    E.train()\n",
    "\n",
    "    for i, (cover, secret) in enumerate(zip(cover_loader, secret_loader)):\n",
    "\n",
    "        cover = cover.to(DEVICE) / 255.0\n",
    "        secret = secret.to(DEVICE) / 255.0\n",
    "\n",
    "        Y, U, V = rgb_to_yuv(cover)\n",
    "        secret_Y, _, _ = rgb_to_yuv(secret)\n",
    "\n",
    "        X = torch.concat([Y, secret_Y], dim=1)\n",
    "\n",
    "        # 1. Hidden Network\n",
    "        optimizer.zero_grad()\n",
    "\n",
    "        stego = H(X)\n",
    "        stego_rgb = yuv_to_rgb(stego, U, V)\n",
    "        loss_hidden = criterion(cover, stego_rgb)\n",
    "\n",
    "        # 2. Extract Network\n",
    "        secret_Y_pred = E(stego_rgb)\n",
    "        loss_extract = criterion(secret_Y, secret_Y)\n",
    "\n",
    "        # Optimizer \n",
    "        loss = loss_hidden + 1.2 * (loss_extract.item() / loss_hidden.item()) * loss_extract\n",
    "        loss.backward()\n",
    "        optimizer.step()\n",
    "\n",
    "\n",
    "        batch_hidden_losses.append(loss_hidden.item())\n",
    "        batch_extract_losses.append(loss_extract.item())\n",
    "\n",
    "        if (i + 1) % 10 == 0:\n",
    "\n",
    "            avg_hidden_loss = sum(batch_hidden_losses) / len(batch_hidden_losses)\n",
    "            avg_extract_loss = sum(batch_extract_losses) / len(batch_extract_losses)\n",
    "\n",
    "            x.append(epoch * len(cover_loader) + i)\n",
    "            y1.append(avg_hidden_loss)\n",
    "            y2.append(avg_extract_loss)\n",
    "\n",
    "            batch_hidden_losses = []\n",
    "            batch_extract_losses = []\n",
    "\n",
    "            clear_output(wait=True)\n",
    "            plt.figure(figsize=(8, 4))\n",
    "\n",
    "            plt.subplot(1, 2, 1)\n",
    "            plt.plot(x, y1, label=f'Hidden Loss (avg): {avg_hidden_loss:.4f}')\n",
    "            plt.title('Hidden Loss')\n",
    "            plt.xlabel(f'[Epoch {epoch+1}] Batch {i+1}')\n",
    "            plt.ylabel('Loss')\n",
    "            plt.legend()\n",
    "\n",
    "            plt.subplot(1, 2, 2)\n",
    "            plt.plot(x, y2, label=f'Extract Loss (avg): {avg_extract_loss:.4f}', color='orange')\n",
    "            plt.title('Extract Loss')\n",
    "            plt.xlabel(f'[Epoch {epoch+1}] Batch {i+1}')\n",
    "            plt.ylabel('Loss')\n",
    "            plt.legend()\n",
    "\n",
    "            plt.tight_layout()\n",
    "            plt.show()\n",
    "\n",
    "    scheduler.step()\n"
   ]
  },
  {
   "cell_type": "code",
   "execution_count": 18,
   "id": "ntB-BZxbaJVF",
   "metadata": {
    "executionInfo": {
     "elapsed": 398,
     "status": "ok",
     "timestamp": 1749605132762,
     "user": {
      "displayName": "양태환",
      "userId": "02537317918034656022"
     },
     "user_tz": -540
    },
    "id": "ntB-BZxbaJVF"
   },
   "outputs": [],
   "source": [
    "torch.save(H.state_dict(), 'H_epoch30.pth')\n",
    "torch.save(E.state_dict(), 'E_epoch30.pth')"
   ]
  }
 ],
 "metadata": {
  "accelerator": "GPU",
  "colab": {
   "gpuType": "A100",
   "machine_shape": "hm",
   "provenance": []
  },
  "kernelspec": {
   "display_name": "Python 3",
   "name": "python3"
  },
  "language_info": {
   "codemirror_mode": {
    "name": "ipython",
    "version": 3
   },
   "file_extension": ".py",
   "mimetype": "text/x-python",
   "name": "python",
   "nbconvert_exporter": "python",
   "pygments_lexer": "ipython3",
   "version": "3.13.2"
  }
 },
 "nbformat": 4,
 "nbformat_minor": 5
}
